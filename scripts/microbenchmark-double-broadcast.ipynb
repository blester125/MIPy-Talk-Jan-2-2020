{
 "cells": [
  {
   "cell_type": "code",
   "execution_count": 1,
   "metadata": {},
   "outputs": [],
   "source": [
    "import inspect\n",
    "import numpy as np\n",
    "from pairwise_manhattan import (\n",
    "    pairwise_manhattan_numpy_v4,\n",
    "    pairwise_manhattan_numpy_v3,\n",
    ")"
   ]
  },
  {
   "cell_type": "code",
   "execution_count": 2,
   "metadata": {},
   "outputs": [],
   "source": [
    "points = np.array([\n",
    "    [0, 0],\n",
    "    [0, 1],\n",
    "    [1, 1],\n",
    "    [1, 0],\n",
    "], dtype=np.int32)"
   ]
  },
  {
   "cell_type": "code",
   "execution_count": 3,
   "metadata": {},
   "outputs": [
    {
     "name": "stdout",
     "output_type": "stream",
     "text": [
      "def pairwise_manhattan_numpy_v3(points: np.ndarray) -> np.ndarray:\n",
      "    results = []\n",
      "    for i in range(len(points)):\n",
      "        results.append(np.sum(np.abs(points[i] - points), axis=-1))\n",
      "    return np.stack(results)\n",
      "\n"
     ]
    }
   ],
   "source": [
    "print(inspect.getsource(pairwise_manhattan_numpy_v3))"
   ]
  },
  {
   "cell_type": "code",
   "execution_count": 4,
   "metadata": {
    "scrolled": true
   },
   "outputs": [
    {
     "name": "stdout",
     "output_type": "stream",
     "text": [
      "def pairwise_manhattan_numpy_v4(points: np.ndarray) -> np.ndarray:\n",
      "    # return np.sum(np.abs(np.expand_dims(points, 1) - np.expand_dims(points, 0)), axis=-1)\n",
      "    return np.sum(np.abs(points[:, None] - points), axis=-1)\n",
      "\n"
     ]
    }
   ],
   "source": [
    "print(inspect.getsource(pairwise_manhattan_numpy_v4))"
   ]
  },
  {
   "cell_type": "code",
   "execution_count": 5,
   "metadata": {},
   "outputs": [
    {
     "name": "stdout",
     "output_type": "stream",
     "text": [
      "41.3 µs ± 411 ns per loop (mean ± std. dev. of 7 runs, 10000 loops each)\n"
     ]
    }
   ],
   "source": [
    "%%timeit\n",
    "pairwise_manhattan_numpy_v3(points)"
   ]
  },
  {
   "cell_type": "code",
   "execution_count": 6,
   "metadata": {},
   "outputs": [
    {
     "name": "stdout",
     "output_type": "stream",
     "text": [
      "8.15 µs ± 43.2 ns per loop (mean ± std. dev. of 7 runs, 100000 loops each)\n"
     ]
    }
   ],
   "source": [
    "%%timeit\n",
    "pairwise_manhattan_numpy_v4(points)"
   ]
  }
 ],
 "metadata": {
  "kernelspec": {
   "display_name": "Python 3",
   "language": "python",
   "name": "python3"
  },
  "language_info": {
   "codemirror_mode": {
    "name": "ipython",
    "version": 3
   },
   "file_extension": ".py",
   "mimetype": "text/x-python",
   "name": "python",
   "nbconvert_exporter": "python",
   "pygments_lexer": "ipython3",
   "version": "3.6.9"
  }
 },
 "nbformat": 4,
 "nbformat_minor": 2
}
